{
  "nbformat": 4,
  "nbformat_minor": 0,
  "metadata": {
    "colab": {
      "provenance": [],
      "collapsed_sections": [
        "o8oaL5ks7Sor"
      ],
      "mount_file_id": "11e-7TaltD5IewppxR3H6q6L5EYAQ84PQ",
      "authorship_tag": "ABX9TyOIjfolgE6/Rbp3MgNxPNF7",
      "include_colab_link": true
    },
    "kernelspec": {
      "name": "python3",
      "display_name": "Python 3"
    },
    "language_info": {
      "name": "python"
    },
    "accelerator": "GPU",
    "gpuClass": "standard"
  },
  "cells": [
    {
      "cell_type": "markdown",
      "metadata": {
        "id": "view-in-github",
        "colab_type": "text"
      },
      "source": [
        "<a href=\"https://colab.research.google.com/github/Prox-A/LungCancer_Authentication/blob/main/Project2.ipynb\" target=\"_parent\"><img src=\"https://colab.research.google.com/assets/colab-badge.svg\" alt=\"Open In Colab\"/></a>"
      ]
    },
    {
      "cell_type": "code",
      "execution_count": null,
      "metadata": {
        "id": "4Nrc3x3cH62q"
      },
      "outputs": [],
      "source": [
        "import tensorflow as tf\n",
        "\n",
        "from keras import optimizers\n",
        "from keras.utils import load_img, img_to_array\n",
        "from keras.models import Sequential\n",
        "from keras.layers import Dense, Flatten, Dropout, BatchNormalization, Conv2D, MaxPooling2D, Input\n",
        "from keras.preprocessing.image import ImageDataGenerator\n",
        "from keras.callbacks import ModelCheckpoint, EarlyStopping\n",
        "\n",
        "#from keras.applications import ResNet50, DenseNet201, VGG19\n",
        "#from keras.applications import resnet, densenet\n",
        "\n",
        "import numpy as np\n",
        "import matplotlib.pyplot as plt\n",
        "\n",
        "import cv2\n",
        "import pandas as pd\n",
        "import numpy as np\n",
        "import os\n",
        "import matplotlib.pyplot as plt\n",
        "import seaborn as sns\n",
        "import warnings\n",
        "from tqdm.notebook import tqdm\n",
        "%matplotlib inline\n",
        "import time as Time #For measuring how long the training takes\n",
        "import matplotlib.pyplot as plt # plotting library\n",
        "import PIL\n",
        "import PIL.Image\n",
        "import pathlib\n",
        "import matplotlib.pyplot"
      ]
    },
    {
      "cell_type": "markdown",
      "source": [
        "##Importing the data"
      ],
      "metadata": {
        "id": "e83KRaDr-f4k"
      }
    },
    {
      "cell_type": "code",
      "source": [
        "from google.colab import drive\n",
        "drive.mount('/content/drive')"
      ],
      "metadata": {
        "colab": {
          "base_uri": "https://localhost:8080/"
        },
        "id": "mCOP0Ff3Lkgg",
        "outputId": "88b2edc6-cd51-41e0-ed0d-6d09e8db2bc4"
      },
      "execution_count": null,
      "outputs": [
        {
          "output_type": "stream",
          "name": "stdout",
          "text": [
            "Drive already mounted at /content/drive; to attempt to forcibly remount, call drive.mount(\"/content/drive\", force_remount=True).\n"
          ]
        }
      ]
    },
    {
      "cell_type": "code",
      "source": [
        "data_dir = pathlib.Path('/content/drive/MyDrive/Project_V2/Chest_data')"
      ],
      "metadata": {
        "id": "UpDCiZiILTMY"
      },
      "execution_count": null,
      "outputs": []
    },
    {
      "cell_type": "markdown",
      "source": [
        "##تقسيم ومعالجة\n"
      ],
      "metadata": {
        "id": "Px169nf3BCWx"
      }
    },
    {
      "cell_type": "code",
      "source": [
        "BATCH_SIZE = 32\n",
        "IMG_SIZE = 460\n",
        "\n",
        "train_datagen = ImageDataGenerator(dtype='float32', rescale= 1./255.)\n",
        "train_ds = tf.keras.utils.image_dataset_from_directory(\n",
        "    data_dir,\n",
        "    validation_split = 0.2,\n",
        "    subset = \"training\", seed = 23,\n",
        "    label_mode = 'categorical',\n",
        "    image_size = (IMG_SIZE, IMG_SIZE),\n",
        "    batch_size = BATCH_SIZE\n",
        ")\n",
        "\n",
        "test_val_ds = ImageDataGenerator(dtype='float32', rescale= 1./255.)\n",
        "test_val_ds = tf.keras.utils.image_dataset_from_directory(\n",
        "    data_dir,\n",
        "    validation_split = 0.2,\n",
        "    subset = \"validation\", seed = 123,\n",
        "    label_mode = 'categorical',\n",
        "    image_size = (IMG_SIZE, IMG_SIZE),\n",
        "    batch_size = BATCH_SIZE,\n",
        "\n",
        ")"
      ],
      "metadata": {
        "colab": {
          "base_uri": "https://localhost:8080/"
        },
        "id": "gT51Vt5KMd2o",
        "outputId": "eb3380b5-74e5-4669-f552-e434656af680"
      },
      "execution_count": null,
      "outputs": [
        {
          "output_type": "stream",
          "name": "stdout",
          "text": [
            "Found 900 files belonging to 4 classes.\n",
            "Using 720 files for training.\n",
            "Found 900 files belonging to 4 classes.\n",
            "Using 180 files for validation.\n"
          ]
        }
      ]
    },
    {
      "cell_type": "code",
      "source": [
        "val_ds = test_val_ds.shard(num_shards = 2, index = 0)\n",
        "val_ds = test_val_ds.shard(num_shards = 2, index = 1)"
      ],
      "metadata": {
        "id": "iBTZWXmLMiHB"
      },
      "execution_count": null,
      "outputs": []
    },
    {
      "cell_type": "markdown",
      "source": [
        "##DNN Model"
      ],
      "metadata": {
        "id": "11PPry4VxsCl"
      }
    },
    {
      "cell_type": "code",
      "source": [
        "dnn_model = tf.keras.models.Sequential([\n",
        "    tf.keras.layers.Flatten(input_shape=(460,460,3)),\n",
        "    tf.keras.layers.Dense(5000, activation = 'relu', kernel_regularizer = 'l2'),\n",
        "    tf.keras.layers.Dropout(0.4),\n",
        "    tf.keras.layers.Dense(3000, activation = 'relu', kernel_regularizer = 'l2'),\n",
        "    tf.keras.layers.Dropout(0.3),\n",
        "    tf.keras.layers.Dense(2000, activation = 'relu', kernel_regularizer = 'l2'),\n",
        "    tf.keras.layers.Dropout(0.3),\n",
        "    tf.keras.layers.Dense(4, activation = 'softmax')\n",
        "\n",
        "])\n",
        "\n",
        "dnn_model.summary()"
      ],
      "metadata": {
        "id": "4cTKuGNGxqW1"
      },
      "execution_count": null,
      "outputs": []
    },
    {
      "cell_type": "code",
      "source": [
        "early_stopping = EarlyStopping(monitor= 'val_loss', patience= 20)\n",
        "checkpointer = ModelCheckpoint('/content/drive/MyDrive/Project_V2/Saved_DNN_h5/DNN_Weights.h5',monitor='val_loss', verbose = 1,\n",
        "                            save_best_only=True)\n",
        "dnn_model.compile(optimizer=tf.keras.optimizers.legacy.Adam(learning_rate= 0.00003, decay= 1e-5), loss=tf.keras.losses.CategoricalCrossentropy(),metrics=[tf.keras.metrics.CategoricalAccuracy()])\n",
        "\n",
        "dnn_model.summary()"
      ],
      "metadata": {
        "id": "u149-47zyM-S"
      },
      "execution_count": null,
      "outputs": []
    },
    {
      "cell_type": "code",
      "source": [
        "history_model = dnn_model.fit(train_ds, epochs = 50, validation_data = val_ds, callbacks = [checkpointer, early_stopping])"
      ],
      "metadata": {
        "id": "k4OvkK5x1IU8"
      },
      "execution_count": null,
      "outputs": []
    },
    {
      "cell_type": "markdown",
      "source": [
        "##CNN Model"
      ],
      "metadata": {
        "id": "rbX8q1V21Y5X"
      }
    },
    {
      "cell_type": "code",
      "source": [
        "cnn_model = tf.keras.models.Sequential([\n",
        "    tf.keras.layers.Conv2D(8, (3,3), activation = 'relu', input_shape = (460,460,3)),\n",
        "    tf.keras.layers.MaxPooling2D(2, 2),\n",
        "    tf.keras.layers.Conv2D(16, (3,3), activation = 'relu'),\n",
        "    tf.keras.layers.MaxPooling2D(2, 2),\n",
        "    tf.keras.layers.Flatten(),\n",
        "    tf.keras.layers.Dense(256, activation = 'relu', kernel_regularizer = 'l2'),\n",
        "    tf.keras.layers.Dropout(0.4),\n",
        "    tf.keras.layers.Dense(4, activation = 'softmax')\n",
        "])\n",
        "\n",
        "cnn_model.summary()"
      ],
      "metadata": {
        "id": "tiyle3fU1VaX"
      },
      "execution_count": null,
      "outputs": []
    },
    {
      "cell_type": "code",
      "source": [
        "early_stopping = EarlyStopping(monitor= 'val_loss', patience= 20)\n",
        "checkpointer = ModelCheckpoint('/content/drive/MyDrive/Project_V2/Saved_CNN_h5/CNN_Weights.h5',monitor='val_loss', verbose = 1,\n",
        "                            save_best_only=True)\n",
        "cnn_model.compile(optimizer=tf.keras.optimizers.legacy.Adam(learning_rate= 0.00003, decay= 1e-5), loss=tf.keras.losses.CategoricalCrossentropy(),metrics=[tf.keras.metrics.CategoricalAccuracy()])\n",
        "\n",
        "cnn_model.summary()"
      ],
      "metadata": {
        "id": "tafG9q0b2Icc"
      },
      "execution_count": null,
      "outputs": []
    },
    {
      "cell_type": "code",
      "source": [
        "history_model = cnn_model.fit(train_ds, epochs = 50, validation_data = val_ds, callbacks = [checkpointer, early_stopping])"
      ],
      "metadata": {
        "id": "YbUznSsh2U0F"
      },
      "execution_count": null,
      "outputs": []
    },
    {
      "cell_type": "markdown",
      "source": [
        "##Transfer Learning"
      ],
      "metadata": {
        "id": "o8oaL5ks7Sor"
      }
    },
    {
      "cell_type": "code",
      "source": [
        "original_model = tf.keras.applications.ResNet50V2(include_top = False, input_shape = (460, 460, 3))\n",
        "original_model.trainable = False\n",
        "\n",
        "regularizer = tf.keras.regularizers.l2()\n",
        "\n",
        "for layer in original_model.layers:\n",
        "    for attr in ['kernel_regularizer']:\n",
        "        if hasattr(layer, attr):\n",
        "          setattr(layer, attr, regularizer)"
      ],
      "metadata": {
        "id": "ZlQH7pjIMvCw",
        "colab": {
          "base_uri": "https://localhost:8080/"
        },
        "outputId": "44ee0d2e-bc24-4271-e3f1-97bfcd720471"
      },
      "execution_count": null,
      "outputs": [
        {
          "output_type": "stream",
          "name": "stdout",
          "text": [
            "Downloading data from https://storage.googleapis.com/tensorflow/keras-applications/resnet/resnet50v2_weights_tf_dim_ordering_tf_kernels_notop.h5\n",
            "94668760/94668760 [==============================] - 1s 0us/step\n"
          ]
        }
      ]
    },
    {
      "cell_type": "code",
      "source": [
        "print(len(original_model.layers)) # number of layers\n",
        "print(original_model.layers[0]) # len first layer\n",
        "print(original_model.layers[0].name) # first layer\n",
        "print(original_model.layers[1].name) # second layer\n",
        "print(original_model.layers[len(original_model.layers)-2].name) # second to last model\n",
        "print(original_model.layers[len(original_model.layers)-1].name) # last layer\n",
        "original_model.summary()"
      ],
      "metadata": {
        "id": "fcKT_poElqKQ",
        "outputId": "c5e04378-7f1d-4480-e714-b8417dd8c2eb",
        "colab": {
          "base_uri": "https://localhost:8080/"
        }
      },
      "execution_count": null,
      "outputs": [
        {
          "output_type": "stream",
          "name": "stdout",
          "text": [
            "190\n",
            "<keras.engine.input_layer.InputLayer object at 0x7fc0fc681e20>\n",
            "input_1\n",
            "conv1_pad\n",
            "post_bn\n",
            "post_relu\n",
            "Model: \"resnet50v2\"\n",
            "__________________________________________________________________________________________________\n",
            " Layer (type)                   Output Shape         Param #     Connected to                     \n",
            "==================================================================================================\n",
            " input_1 (InputLayer)           [(None, 460, 460, 3  0           []                               \n",
            "                                )]                                                                \n",
            "                                                                                                  \n",
            " conv1_pad (ZeroPadding2D)      (None, 466, 466, 3)  0           ['input_1[0][0]']                \n",
            "                                                                                                  \n",
            " conv1_conv (Conv2D)            (None, 230, 230, 64  9472        ['conv1_pad[0][0]']              \n",
            "                                )                                                                 \n",
            "                                                                                                  \n",
            " pool1_pad (ZeroPadding2D)      (None, 232, 232, 64  0           ['conv1_conv[0][0]']             \n",
            "                                )                                                                 \n",
            "                                                                                                  \n",
            " pool1_pool (MaxPooling2D)      (None, 115, 115, 64  0           ['pool1_pad[0][0]']              \n",
            "                                )                                                                 \n",
            "                                                                                                  \n",
            " conv2_block1_preact_bn (BatchN  (None, 115, 115, 64  256        ['pool1_pool[0][0]']             \n",
            " ormalization)                  )                                                                 \n",
            "                                                                                                  \n",
            " conv2_block1_preact_relu (Acti  (None, 115, 115, 64  0          ['conv2_block1_preact_bn[0][0]'] \n",
            " vation)                        )                                                                 \n",
            "                                                                                                  \n",
            " conv2_block1_1_conv (Conv2D)   (None, 115, 115, 64  4096        ['conv2_block1_preact_relu[0][0]'\n",
            "                                )                                ]                                \n",
            "                                                                                                  \n",
            " conv2_block1_1_bn (BatchNormal  (None, 115, 115, 64  256        ['conv2_block1_1_conv[0][0]']    \n",
            " ization)                       )                                                                 \n",
            "                                                                                                  \n",
            " conv2_block1_1_relu (Activatio  (None, 115, 115, 64  0          ['conv2_block1_1_bn[0][0]']      \n",
            " n)                             )                                                                 \n",
            "                                                                                                  \n",
            " conv2_block1_2_pad (ZeroPaddin  (None, 117, 117, 64  0          ['conv2_block1_1_relu[0][0]']    \n",
            " g2D)                           )                                                                 \n",
            "                                                                                                  \n",
            " conv2_block1_2_conv (Conv2D)   (None, 115, 115, 64  36864       ['conv2_block1_2_pad[0][0]']     \n",
            "                                )                                                                 \n",
            "                                                                                                  \n",
            " conv2_block1_2_bn (BatchNormal  (None, 115, 115, 64  256        ['conv2_block1_2_conv[0][0]']    \n",
            " ization)                       )                                                                 \n",
            "                                                                                                  \n",
            " conv2_block1_2_relu (Activatio  (None, 115, 115, 64  0          ['conv2_block1_2_bn[0][0]']      \n",
            " n)                             )                                                                 \n",
            "                                                                                                  \n",
            " conv2_block1_0_conv (Conv2D)   (None, 115, 115, 25  16640       ['conv2_block1_preact_relu[0][0]'\n",
            "                                6)                               ]                                \n",
            "                                                                                                  \n",
            " conv2_block1_3_conv (Conv2D)   (None, 115, 115, 25  16640       ['conv2_block1_2_relu[0][0]']    \n",
            "                                6)                                                                \n",
            "                                                                                                  \n",
            " conv2_block1_out (Add)         (None, 115, 115, 25  0           ['conv2_block1_0_conv[0][0]',    \n",
            "                                6)                                'conv2_block1_3_conv[0][0]']    \n",
            "                                                                                                  \n",
            " conv2_block2_preact_bn (BatchN  (None, 115, 115, 25  1024       ['conv2_block1_out[0][0]']       \n",
            " ormalization)                  6)                                                                \n",
            "                                                                                                  \n",
            " conv2_block2_preact_relu (Acti  (None, 115, 115, 25  0          ['conv2_block2_preact_bn[0][0]'] \n",
            " vation)                        6)                                                                \n",
            "                                                                                                  \n",
            " conv2_block2_1_conv (Conv2D)   (None, 115, 115, 64  16384       ['conv2_block2_preact_relu[0][0]'\n",
            "                                )                                ]                                \n",
            "                                                                                                  \n",
            " conv2_block2_1_bn (BatchNormal  (None, 115, 115, 64  256        ['conv2_block2_1_conv[0][0]']    \n",
            " ization)                       )                                                                 \n",
            "                                                                                                  \n",
            " conv2_block2_1_relu (Activatio  (None, 115, 115, 64  0          ['conv2_block2_1_bn[0][0]']      \n",
            " n)                             )                                                                 \n",
            "                                                                                                  \n",
            " conv2_block2_2_pad (ZeroPaddin  (None, 117, 117, 64  0          ['conv2_block2_1_relu[0][0]']    \n",
            " g2D)                           )                                                                 \n",
            "                                                                                                  \n",
            " conv2_block2_2_conv (Conv2D)   (None, 115, 115, 64  36864       ['conv2_block2_2_pad[0][0]']     \n",
            "                                )                                                                 \n",
            "                                                                                                  \n",
            " conv2_block2_2_bn (BatchNormal  (None, 115, 115, 64  256        ['conv2_block2_2_conv[0][0]']    \n",
            " ization)                       )                                                                 \n",
            "                                                                                                  \n",
            " conv2_block2_2_relu (Activatio  (None, 115, 115, 64  0          ['conv2_block2_2_bn[0][0]']      \n",
            " n)                             )                                                                 \n",
            "                                                                                                  \n",
            " conv2_block2_3_conv (Conv2D)   (None, 115, 115, 25  16640       ['conv2_block2_2_relu[0][0]']    \n",
            "                                6)                                                                \n",
            "                                                                                                  \n",
            " conv2_block2_out (Add)         (None, 115, 115, 25  0           ['conv2_block1_out[0][0]',       \n",
            "                                6)                                'conv2_block2_3_conv[0][0]']    \n",
            "                                                                                                  \n",
            " conv2_block3_preact_bn (BatchN  (None, 115, 115, 25  1024       ['conv2_block2_out[0][0]']       \n",
            " ormalization)                  6)                                                                \n",
            "                                                                                                  \n",
            " conv2_block3_preact_relu (Acti  (None, 115, 115, 25  0          ['conv2_block3_preact_bn[0][0]'] \n",
            " vation)                        6)                                                                \n",
            "                                                                                                  \n",
            " conv2_block3_1_conv (Conv2D)   (None, 115, 115, 64  16384       ['conv2_block3_preact_relu[0][0]'\n",
            "                                )                                ]                                \n",
            "                                                                                                  \n",
            " conv2_block3_1_bn (BatchNormal  (None, 115, 115, 64  256        ['conv2_block3_1_conv[0][0]']    \n",
            " ization)                       )                                                                 \n",
            "                                                                                                  \n",
            " conv2_block3_1_relu (Activatio  (None, 115, 115, 64  0          ['conv2_block3_1_bn[0][0]']      \n",
            " n)                             )                                                                 \n",
            "                                                                                                  \n",
            " conv2_block3_2_pad (ZeroPaddin  (None, 117, 117, 64  0          ['conv2_block3_1_relu[0][0]']    \n",
            " g2D)                           )                                                                 \n",
            "                                                                                                  \n",
            " conv2_block3_2_conv (Conv2D)   (None, 58, 58, 64)   36864       ['conv2_block3_2_pad[0][0]']     \n",
            "                                                                                                  \n",
            " conv2_block3_2_bn (BatchNormal  (None, 58, 58, 64)  256         ['conv2_block3_2_conv[0][0]']    \n",
            " ization)                                                                                         \n",
            "                                                                                                  \n",
            " conv2_block3_2_relu (Activatio  (None, 58, 58, 64)  0           ['conv2_block3_2_bn[0][0]']      \n",
            " n)                                                                                               \n",
            "                                                                                                  \n",
            " max_pooling2d (MaxPooling2D)   (None, 58, 58, 256)  0           ['conv2_block2_out[0][0]']       \n",
            "                                                                                                  \n",
            " conv2_block3_3_conv (Conv2D)   (None, 58, 58, 256)  16640       ['conv2_block3_2_relu[0][0]']    \n",
            "                                                                                                  \n",
            " conv2_block3_out (Add)         (None, 58, 58, 256)  0           ['max_pooling2d[0][0]',          \n",
            "                                                                  'conv2_block3_3_conv[0][0]']    \n",
            "                                                                                                  \n",
            " conv3_block1_preact_bn (BatchN  (None, 58, 58, 256)  1024       ['conv2_block3_out[0][0]']       \n",
            " ormalization)                                                                                    \n",
            "                                                                                                  \n",
            " conv3_block1_preact_relu (Acti  (None, 58, 58, 256)  0          ['conv3_block1_preact_bn[0][0]'] \n",
            " vation)                                                                                          \n",
            "                                                                                                  \n",
            " conv3_block1_1_conv (Conv2D)   (None, 58, 58, 128)  32768       ['conv3_block1_preact_relu[0][0]'\n",
            "                                                                 ]                                \n",
            "                                                                                                  \n",
            " conv3_block1_1_bn (BatchNormal  (None, 58, 58, 128)  512        ['conv3_block1_1_conv[0][0]']    \n",
            " ization)                                                                                         \n",
            "                                                                                                  \n",
            " conv3_block1_1_relu (Activatio  (None, 58, 58, 128)  0          ['conv3_block1_1_bn[0][0]']      \n",
            " n)                                                                                               \n",
            "                                                                                                  \n",
            " conv3_block1_2_pad (ZeroPaddin  (None, 60, 60, 128)  0          ['conv3_block1_1_relu[0][0]']    \n",
            " g2D)                                                                                             \n",
            "                                                                                                  \n",
            " conv3_block1_2_conv (Conv2D)   (None, 58, 58, 128)  147456      ['conv3_block1_2_pad[0][0]']     \n",
            "                                                                                                  \n",
            " conv3_block1_2_bn (BatchNormal  (None, 58, 58, 128)  512        ['conv3_block1_2_conv[0][0]']    \n",
            " ization)                                                                                         \n",
            "                                                                                                  \n",
            " conv3_block1_2_relu (Activatio  (None, 58, 58, 128)  0          ['conv3_block1_2_bn[0][0]']      \n",
            " n)                                                                                               \n",
            "                                                                                                  \n",
            " conv3_block1_0_conv (Conv2D)   (None, 58, 58, 512)  131584      ['conv3_block1_preact_relu[0][0]'\n",
            "                                                                 ]                                \n",
            "                                                                                                  \n",
            " conv3_block1_3_conv (Conv2D)   (None, 58, 58, 512)  66048       ['conv3_block1_2_relu[0][0]']    \n",
            "                                                                                                  \n",
            " conv3_block1_out (Add)         (None, 58, 58, 512)  0           ['conv3_block1_0_conv[0][0]',    \n",
            "                                                                  'conv3_block1_3_conv[0][0]']    \n",
            "                                                                                                  \n",
            " conv3_block2_preact_bn (BatchN  (None, 58, 58, 512)  2048       ['conv3_block1_out[0][0]']       \n",
            " ormalization)                                                                                    \n",
            "                                                                                                  \n",
            " conv3_block2_preact_relu (Acti  (None, 58, 58, 512)  0          ['conv3_block2_preact_bn[0][0]'] \n",
            " vation)                                                                                          \n",
            "                                                                                                  \n",
            " conv3_block2_1_conv (Conv2D)   (None, 58, 58, 128)  65536       ['conv3_block2_preact_relu[0][0]'\n",
            "                                                                 ]                                \n",
            "                                                                                                  \n",
            " conv3_block2_1_bn (BatchNormal  (None, 58, 58, 128)  512        ['conv3_block2_1_conv[0][0]']    \n",
            " ization)                                                                                         \n",
            "                                                                                                  \n",
            " conv3_block2_1_relu (Activatio  (None, 58, 58, 128)  0          ['conv3_block2_1_bn[0][0]']      \n",
            " n)                                                                                               \n",
            "                                                                                                  \n",
            " conv3_block2_2_pad (ZeroPaddin  (None, 60, 60, 128)  0          ['conv3_block2_1_relu[0][0]']    \n",
            " g2D)                                                                                             \n",
            "                                                                                                  \n",
            " conv3_block2_2_conv (Conv2D)   (None, 58, 58, 128)  147456      ['conv3_block2_2_pad[0][0]']     \n",
            "                                                                                                  \n",
            " conv3_block2_2_bn (BatchNormal  (None, 58, 58, 128)  512        ['conv3_block2_2_conv[0][0]']    \n",
            " ization)                                                                                         \n",
            "                                                                                                  \n",
            " conv3_block2_2_relu (Activatio  (None, 58, 58, 128)  0          ['conv3_block2_2_bn[0][0]']      \n",
            " n)                                                                                               \n",
            "                                                                                                  \n",
            " conv3_block2_3_conv (Conv2D)   (None, 58, 58, 512)  66048       ['conv3_block2_2_relu[0][0]']    \n",
            "                                                                                                  \n",
            " conv3_block2_out (Add)         (None, 58, 58, 512)  0           ['conv3_block1_out[0][0]',       \n",
            "                                                                  'conv3_block2_3_conv[0][0]']    \n",
            "                                                                                                  \n",
            " conv3_block3_preact_bn (BatchN  (None, 58, 58, 512)  2048       ['conv3_block2_out[0][0]']       \n",
            " ormalization)                                                                                    \n",
            "                                                                                                  \n",
            " conv3_block3_preact_relu (Acti  (None, 58, 58, 512)  0          ['conv3_block3_preact_bn[0][0]'] \n",
            " vation)                                                                                          \n",
            "                                                                                                  \n",
            " conv3_block3_1_conv (Conv2D)   (None, 58, 58, 128)  65536       ['conv3_block3_preact_relu[0][0]'\n",
            "                                                                 ]                                \n",
            "                                                                                                  \n",
            " conv3_block3_1_bn (BatchNormal  (None, 58, 58, 128)  512        ['conv3_block3_1_conv[0][0]']    \n",
            " ization)                                                                                         \n",
            "                                                                                                  \n",
            " conv3_block3_1_relu (Activatio  (None, 58, 58, 128)  0          ['conv3_block3_1_bn[0][0]']      \n",
            " n)                                                                                               \n",
            "                                                                                                  \n",
            " conv3_block3_2_pad (ZeroPaddin  (None, 60, 60, 128)  0          ['conv3_block3_1_relu[0][0]']    \n",
            " g2D)                                                                                             \n",
            "                                                                                                  \n",
            " conv3_block3_2_conv (Conv2D)   (None, 58, 58, 128)  147456      ['conv3_block3_2_pad[0][0]']     \n",
            "                                                                                                  \n",
            " conv3_block3_2_bn (BatchNormal  (None, 58, 58, 128)  512        ['conv3_block3_2_conv[0][0]']    \n",
            " ization)                                                                                         \n",
            "                                                                                                  \n",
            " conv3_block3_2_relu (Activatio  (None, 58, 58, 128)  0          ['conv3_block3_2_bn[0][0]']      \n",
            " n)                                                                                               \n",
            "                                                                                                  \n",
            " conv3_block3_3_conv (Conv2D)   (None, 58, 58, 512)  66048       ['conv3_block3_2_relu[0][0]']    \n",
            "                                                                                                  \n",
            " conv3_block3_out (Add)         (None, 58, 58, 512)  0           ['conv3_block2_out[0][0]',       \n",
            "                                                                  'conv3_block3_3_conv[0][0]']    \n",
            "                                                                                                  \n",
            " conv3_block4_preact_bn (BatchN  (None, 58, 58, 512)  2048       ['conv3_block3_out[0][0]']       \n",
            " ormalization)                                                                                    \n",
            "                                                                                                  \n",
            " conv3_block4_preact_relu (Acti  (None, 58, 58, 512)  0          ['conv3_block4_preact_bn[0][0]'] \n",
            " vation)                                                                                          \n",
            "                                                                                                  \n",
            " conv3_block4_1_conv (Conv2D)   (None, 58, 58, 128)  65536       ['conv3_block4_preact_relu[0][0]'\n",
            "                                                                 ]                                \n",
            "                                                                                                  \n",
            " conv3_block4_1_bn (BatchNormal  (None, 58, 58, 128)  512        ['conv3_block4_1_conv[0][0]']    \n",
            " ization)                                                                                         \n",
            "                                                                                                  \n",
            " conv3_block4_1_relu (Activatio  (None, 58, 58, 128)  0          ['conv3_block4_1_bn[0][0]']      \n",
            " n)                                                                                               \n",
            "                                                                                                  \n",
            " conv3_block4_2_pad (ZeroPaddin  (None, 60, 60, 128)  0          ['conv3_block4_1_relu[0][0]']    \n",
            " g2D)                                                                                             \n",
            "                                                                                                  \n",
            " conv3_block4_2_conv (Conv2D)   (None, 29, 29, 128)  147456      ['conv3_block4_2_pad[0][0]']     \n",
            "                                                                                                  \n",
            " conv3_block4_2_bn (BatchNormal  (None, 29, 29, 128)  512        ['conv3_block4_2_conv[0][0]']    \n",
            " ization)                                                                                         \n",
            "                                                                                                  \n",
            " conv3_block4_2_relu (Activatio  (None, 29, 29, 128)  0          ['conv3_block4_2_bn[0][0]']      \n",
            " n)                                                                                               \n",
            "                                                                                                  \n",
            " max_pooling2d_1 (MaxPooling2D)  (None, 29, 29, 512)  0          ['conv3_block3_out[0][0]']       \n",
            "                                                                                                  \n",
            " conv3_block4_3_conv (Conv2D)   (None, 29, 29, 512)  66048       ['conv3_block4_2_relu[0][0]']    \n",
            "                                                                                                  \n",
            " conv3_block4_out (Add)         (None, 29, 29, 512)  0           ['max_pooling2d_1[0][0]',        \n",
            "                                                                  'conv3_block4_3_conv[0][0]']    \n",
            "                                                                                                  \n",
            " conv4_block1_preact_bn (BatchN  (None, 29, 29, 512)  2048       ['conv3_block4_out[0][0]']       \n",
            " ormalization)                                                                                    \n",
            "                                                                                                  \n",
            " conv4_block1_preact_relu (Acti  (None, 29, 29, 512)  0          ['conv4_block1_preact_bn[0][0]'] \n",
            " vation)                                                                                          \n",
            "                                                                                                  \n",
            " conv4_block1_1_conv (Conv2D)   (None, 29, 29, 256)  131072      ['conv4_block1_preact_relu[0][0]'\n",
            "                                                                 ]                                \n",
            "                                                                                                  \n",
            " conv4_block1_1_bn (BatchNormal  (None, 29, 29, 256)  1024       ['conv4_block1_1_conv[0][0]']    \n",
            " ization)                                                                                         \n",
            "                                                                                                  \n",
            " conv4_block1_1_relu (Activatio  (None, 29, 29, 256)  0          ['conv4_block1_1_bn[0][0]']      \n",
            " n)                                                                                               \n",
            "                                                                                                  \n",
            " conv4_block1_2_pad (ZeroPaddin  (None, 31, 31, 256)  0          ['conv4_block1_1_relu[0][0]']    \n",
            " g2D)                                                                                             \n",
            "                                                                                                  \n",
            " conv4_block1_2_conv (Conv2D)   (None, 29, 29, 256)  589824      ['conv4_block1_2_pad[0][0]']     \n",
            "                                                                                                  \n",
            " conv4_block1_2_bn (BatchNormal  (None, 29, 29, 256)  1024       ['conv4_block1_2_conv[0][0]']    \n",
            " ization)                                                                                         \n",
            "                                                                                                  \n",
            " conv4_block1_2_relu (Activatio  (None, 29, 29, 256)  0          ['conv4_block1_2_bn[0][0]']      \n",
            " n)                                                                                               \n",
            "                                                                                                  \n",
            " conv4_block1_0_conv (Conv2D)   (None, 29, 29, 1024  525312      ['conv4_block1_preact_relu[0][0]'\n",
            "                                )                                ]                                \n",
            "                                                                                                  \n",
            " conv4_block1_3_conv (Conv2D)   (None, 29, 29, 1024  263168      ['conv4_block1_2_relu[0][0]']    \n",
            "                                )                                                                 \n",
            "                                                                                                  \n",
            " conv4_block1_out (Add)         (None, 29, 29, 1024  0           ['conv4_block1_0_conv[0][0]',    \n",
            "                                )                                 'conv4_block1_3_conv[0][0]']    \n",
            "                                                                                                  \n",
            " conv4_block2_preact_bn (BatchN  (None, 29, 29, 1024  4096       ['conv4_block1_out[0][0]']       \n",
            " ormalization)                  )                                                                 \n",
            "                                                                                                  \n",
            " conv4_block2_preact_relu (Acti  (None, 29, 29, 1024  0          ['conv4_block2_preact_bn[0][0]'] \n",
            " vation)                        )                                                                 \n",
            "                                                                                                  \n",
            " conv4_block2_1_conv (Conv2D)   (None, 29, 29, 256)  262144      ['conv4_block2_preact_relu[0][0]'\n",
            "                                                                 ]                                \n",
            "                                                                                                  \n",
            " conv4_block2_1_bn (BatchNormal  (None, 29, 29, 256)  1024       ['conv4_block2_1_conv[0][0]']    \n",
            " ization)                                                                                         \n",
            "                                                                                                  \n",
            " conv4_block2_1_relu (Activatio  (None, 29, 29, 256)  0          ['conv4_block2_1_bn[0][0]']      \n",
            " n)                                                                                               \n",
            "                                                                                                  \n",
            " conv4_block2_2_pad (ZeroPaddin  (None, 31, 31, 256)  0          ['conv4_block2_1_relu[0][0]']    \n",
            " g2D)                                                                                             \n",
            "                                                                                                  \n",
            " conv4_block2_2_conv (Conv2D)   (None, 29, 29, 256)  589824      ['conv4_block2_2_pad[0][0]']     \n",
            "                                                                                                  \n",
            " conv4_block2_2_bn (BatchNormal  (None, 29, 29, 256)  1024       ['conv4_block2_2_conv[0][0]']    \n",
            " ization)                                                                                         \n",
            "                                                                                                  \n",
            " conv4_block2_2_relu (Activatio  (None, 29, 29, 256)  0          ['conv4_block2_2_bn[0][0]']      \n",
            " n)                                                                                               \n",
            "                                                                                                  \n",
            " conv4_block2_3_conv (Conv2D)   (None, 29, 29, 1024  263168      ['conv4_block2_2_relu[0][0]']    \n",
            "                                )                                                                 \n",
            "                                                                                                  \n",
            " conv4_block2_out (Add)         (None, 29, 29, 1024  0           ['conv4_block1_out[0][0]',       \n",
            "                                )                                 'conv4_block2_3_conv[0][0]']    \n",
            "                                                                                                  \n",
            " conv4_block3_preact_bn (BatchN  (None, 29, 29, 1024  4096       ['conv4_block2_out[0][0]']       \n",
            " ormalization)                  )                                                                 \n",
            "                                                                                                  \n",
            " conv4_block3_preact_relu (Acti  (None, 29, 29, 1024  0          ['conv4_block3_preact_bn[0][0]'] \n",
            " vation)                        )                                                                 \n",
            "                                                                                                  \n",
            " conv4_block3_1_conv (Conv2D)   (None, 29, 29, 256)  262144      ['conv4_block3_preact_relu[0][0]'\n",
            "                                                                 ]                                \n",
            "                                                                                                  \n",
            " conv4_block3_1_bn (BatchNormal  (None, 29, 29, 256)  1024       ['conv4_block3_1_conv[0][0]']    \n",
            " ization)                                                                                         \n",
            "                                                                                                  \n",
            " conv4_block3_1_relu (Activatio  (None, 29, 29, 256)  0          ['conv4_block3_1_bn[0][0]']      \n",
            " n)                                                                                               \n",
            "                                                                                                  \n",
            " conv4_block3_2_pad (ZeroPaddin  (None, 31, 31, 256)  0          ['conv4_block3_1_relu[0][0]']    \n",
            " g2D)                                                                                             \n",
            "                                                                                                  \n",
            " conv4_block3_2_conv (Conv2D)   (None, 29, 29, 256)  589824      ['conv4_block3_2_pad[0][0]']     \n",
            "                                                                                                  \n",
            " conv4_block3_2_bn (BatchNormal  (None, 29, 29, 256)  1024       ['conv4_block3_2_conv[0][0]']    \n",
            " ization)                                                                                         \n",
            "                                                                                                  \n",
            " conv4_block3_2_relu (Activatio  (None, 29, 29, 256)  0          ['conv4_block3_2_bn[0][0]']      \n",
            " n)                                                                                               \n",
            "                                                                                                  \n",
            " conv4_block3_3_conv (Conv2D)   (None, 29, 29, 1024  263168      ['conv4_block3_2_relu[0][0]']    \n",
            "                                )                                                                 \n",
            "                                                                                                  \n",
            " conv4_block3_out (Add)         (None, 29, 29, 1024  0           ['conv4_block2_out[0][0]',       \n",
            "                                )                                 'conv4_block3_3_conv[0][0]']    \n",
            "                                                                                                  \n",
            " conv4_block4_preact_bn (BatchN  (None, 29, 29, 1024  4096       ['conv4_block3_out[0][0]']       \n",
            " ormalization)                  )                                                                 \n",
            "                                                                                                  \n",
            " conv4_block4_preact_relu (Acti  (None, 29, 29, 1024  0          ['conv4_block4_preact_bn[0][0]'] \n",
            " vation)                        )                                                                 \n",
            "                                                                                                  \n",
            " conv4_block4_1_conv (Conv2D)   (None, 29, 29, 256)  262144      ['conv4_block4_preact_relu[0][0]'\n",
            "                                                                 ]                                \n",
            "                                                                                                  \n",
            " conv4_block4_1_bn (BatchNormal  (None, 29, 29, 256)  1024       ['conv4_block4_1_conv[0][0]']    \n",
            " ization)                                                                                         \n",
            "                                                                                                  \n",
            " conv4_block4_1_relu (Activatio  (None, 29, 29, 256)  0          ['conv4_block4_1_bn[0][0]']      \n",
            " n)                                                                                               \n",
            "                                                                                                  \n",
            " conv4_block4_2_pad (ZeroPaddin  (None, 31, 31, 256)  0          ['conv4_block4_1_relu[0][0]']    \n",
            " g2D)                                                                                             \n",
            "                                                                                                  \n",
            " conv4_block4_2_conv (Conv2D)   (None, 29, 29, 256)  589824      ['conv4_block4_2_pad[0][0]']     \n",
            "                                                                                                  \n",
            " conv4_block4_2_bn (BatchNormal  (None, 29, 29, 256)  1024       ['conv4_block4_2_conv[0][0]']    \n",
            " ization)                                                                                         \n",
            "                                                                                                  \n",
            " conv4_block4_2_relu (Activatio  (None, 29, 29, 256)  0          ['conv4_block4_2_bn[0][0]']      \n",
            " n)                                                                                               \n",
            "                                                                                                  \n",
            " conv4_block4_3_conv (Conv2D)   (None, 29, 29, 1024  263168      ['conv4_block4_2_relu[0][0]']    \n",
            "                                )                                                                 \n",
            "                                                                                                  \n",
            " conv4_block4_out (Add)         (None, 29, 29, 1024  0           ['conv4_block3_out[0][0]',       \n",
            "                                )                                 'conv4_block4_3_conv[0][0]']    \n",
            "                                                                                                  \n",
            " conv4_block5_preact_bn (BatchN  (None, 29, 29, 1024  4096       ['conv4_block4_out[0][0]']       \n",
            " ormalization)                  )                                                                 \n",
            "                                                                                                  \n",
            " conv4_block5_preact_relu (Acti  (None, 29, 29, 1024  0          ['conv4_block5_preact_bn[0][0]'] \n",
            " vation)                        )                                                                 \n",
            "                                                                                                  \n",
            " conv4_block5_1_conv (Conv2D)   (None, 29, 29, 256)  262144      ['conv4_block5_preact_relu[0][0]'\n",
            "                                                                 ]                                \n",
            "                                                                                                  \n",
            " conv4_block5_1_bn (BatchNormal  (None, 29, 29, 256)  1024       ['conv4_block5_1_conv[0][0]']    \n",
            " ization)                                                                                         \n",
            "                                                                                                  \n",
            " conv4_block5_1_relu (Activatio  (None, 29, 29, 256)  0          ['conv4_block5_1_bn[0][0]']      \n",
            " n)                                                                                               \n",
            "                                                                                                  \n",
            " conv4_block5_2_pad (ZeroPaddin  (None, 31, 31, 256)  0          ['conv4_block5_1_relu[0][0]']    \n",
            " g2D)                                                                                             \n",
            "                                                                                                  \n",
            " conv4_block5_2_conv (Conv2D)   (None, 29, 29, 256)  589824      ['conv4_block5_2_pad[0][0]']     \n",
            "                                                                                                  \n",
            " conv4_block5_2_bn (BatchNormal  (None, 29, 29, 256)  1024       ['conv4_block5_2_conv[0][0]']    \n",
            " ization)                                                                                         \n",
            "                                                                                                  \n",
            " conv4_block5_2_relu (Activatio  (None, 29, 29, 256)  0          ['conv4_block5_2_bn[0][0]']      \n",
            " n)                                                                                               \n",
            "                                                                                                  \n",
            " conv4_block5_3_conv (Conv2D)   (None, 29, 29, 1024  263168      ['conv4_block5_2_relu[0][0]']    \n",
            "                                )                                                                 \n",
            "                                                                                                  \n",
            " conv4_block5_out (Add)         (None, 29, 29, 1024  0           ['conv4_block4_out[0][0]',       \n",
            "                                )                                 'conv4_block5_3_conv[0][0]']    \n",
            "                                                                                                  \n",
            " conv4_block6_preact_bn (BatchN  (None, 29, 29, 1024  4096       ['conv4_block5_out[0][0]']       \n",
            " ormalization)                  )                                                                 \n",
            "                                                                                                  \n",
            " conv4_block6_preact_relu (Acti  (None, 29, 29, 1024  0          ['conv4_block6_preact_bn[0][0]'] \n",
            " vation)                        )                                                                 \n",
            "                                                                                                  \n",
            " conv4_block6_1_conv (Conv2D)   (None, 29, 29, 256)  262144      ['conv4_block6_preact_relu[0][0]'\n",
            "                                                                 ]                                \n",
            "                                                                                                  \n",
            " conv4_block6_1_bn (BatchNormal  (None, 29, 29, 256)  1024       ['conv4_block6_1_conv[0][0]']    \n",
            " ization)                                                                                         \n",
            "                                                                                                  \n",
            " conv4_block6_1_relu (Activatio  (None, 29, 29, 256)  0          ['conv4_block6_1_bn[0][0]']      \n",
            " n)                                                                                               \n",
            "                                                                                                  \n",
            " conv4_block6_2_pad (ZeroPaddin  (None, 31, 31, 256)  0          ['conv4_block6_1_relu[0][0]']    \n",
            " g2D)                                                                                             \n",
            "                                                                                                  \n",
            " conv4_block6_2_conv (Conv2D)   (None, 15, 15, 256)  589824      ['conv4_block6_2_pad[0][0]']     \n",
            "                                                                                                  \n",
            " conv4_block6_2_bn (BatchNormal  (None, 15, 15, 256)  1024       ['conv4_block6_2_conv[0][0]']    \n",
            " ization)                                                                                         \n",
            "                                                                                                  \n",
            " conv4_block6_2_relu (Activatio  (None, 15, 15, 256)  0          ['conv4_block6_2_bn[0][0]']      \n",
            " n)                                                                                               \n",
            "                                                                                                  \n",
            " max_pooling2d_2 (MaxPooling2D)  (None, 15, 15, 1024  0          ['conv4_block5_out[0][0]']       \n",
            "                                )                                                                 \n",
            "                                                                                                  \n",
            " conv4_block6_3_conv (Conv2D)   (None, 15, 15, 1024  263168      ['conv4_block6_2_relu[0][0]']    \n",
            "                                )                                                                 \n",
            "                                                                                                  \n",
            " conv4_block6_out (Add)         (None, 15, 15, 1024  0           ['max_pooling2d_2[0][0]',        \n",
            "                                )                                 'conv4_block6_3_conv[0][0]']    \n",
            "                                                                                                  \n",
            " conv5_block1_preact_bn (BatchN  (None, 15, 15, 1024  4096       ['conv4_block6_out[0][0]']       \n",
            " ormalization)                  )                                                                 \n",
            "                                                                                                  \n",
            " conv5_block1_preact_relu (Acti  (None, 15, 15, 1024  0          ['conv5_block1_preact_bn[0][0]'] \n",
            " vation)                        )                                                                 \n",
            "                                                                                                  \n",
            " conv5_block1_1_conv (Conv2D)   (None, 15, 15, 512)  524288      ['conv5_block1_preact_relu[0][0]'\n",
            "                                                                 ]                                \n",
            "                                                                                                  \n",
            " conv5_block1_1_bn (BatchNormal  (None, 15, 15, 512)  2048       ['conv5_block1_1_conv[0][0]']    \n",
            " ization)                                                                                         \n",
            "                                                                                                  \n",
            " conv5_block1_1_relu (Activatio  (None, 15, 15, 512)  0          ['conv5_block1_1_bn[0][0]']      \n",
            " n)                                                                                               \n",
            "                                                                                                  \n",
            " conv5_block1_2_pad (ZeroPaddin  (None, 17, 17, 512)  0          ['conv5_block1_1_relu[0][0]']    \n",
            " g2D)                                                                                             \n",
            "                                                                                                  \n",
            " conv5_block1_2_conv (Conv2D)   (None, 15, 15, 512)  2359296     ['conv5_block1_2_pad[0][0]']     \n",
            "                                                                                                  \n",
            " conv5_block1_2_bn (BatchNormal  (None, 15, 15, 512)  2048       ['conv5_block1_2_conv[0][0]']    \n",
            " ization)                                                                                         \n",
            "                                                                                                  \n",
            " conv5_block1_2_relu (Activatio  (None, 15, 15, 512)  0          ['conv5_block1_2_bn[0][0]']      \n",
            " n)                                                                                               \n",
            "                                                                                                  \n",
            " conv5_block1_0_conv (Conv2D)   (None, 15, 15, 2048  2099200     ['conv5_block1_preact_relu[0][0]'\n",
            "                                )                                ]                                \n",
            "                                                                                                  \n",
            " conv5_block1_3_conv (Conv2D)   (None, 15, 15, 2048  1050624     ['conv5_block1_2_relu[0][0]']    \n",
            "                                )                                                                 \n",
            "                                                                                                  \n",
            " conv5_block1_out (Add)         (None, 15, 15, 2048  0           ['conv5_block1_0_conv[0][0]',    \n",
            "                                )                                 'conv5_block1_3_conv[0][0]']    \n",
            "                                                                                                  \n",
            " conv5_block2_preact_bn (BatchN  (None, 15, 15, 2048  8192       ['conv5_block1_out[0][0]']       \n",
            " ormalization)                  )                                                                 \n",
            "                                                                                                  \n",
            " conv5_block2_preact_relu (Acti  (None, 15, 15, 2048  0          ['conv5_block2_preact_bn[0][0]'] \n",
            " vation)                        )                                                                 \n",
            "                                                                                                  \n",
            " conv5_block2_1_conv (Conv2D)   (None, 15, 15, 512)  1048576     ['conv5_block2_preact_relu[0][0]'\n",
            "                                                                 ]                                \n",
            "                                                                                                  \n",
            " conv5_block2_1_bn (BatchNormal  (None, 15, 15, 512)  2048       ['conv5_block2_1_conv[0][0]']    \n",
            " ization)                                                                                         \n",
            "                                                                                                  \n",
            " conv5_block2_1_relu (Activatio  (None, 15, 15, 512)  0          ['conv5_block2_1_bn[0][0]']      \n",
            " n)                                                                                               \n",
            "                                                                                                  \n",
            " conv5_block2_2_pad (ZeroPaddin  (None, 17, 17, 512)  0          ['conv5_block2_1_relu[0][0]']    \n",
            " g2D)                                                                                             \n",
            "                                                                                                  \n",
            " conv5_block2_2_conv (Conv2D)   (None, 15, 15, 512)  2359296     ['conv5_block2_2_pad[0][0]']     \n",
            "                                                                                                  \n",
            " conv5_block2_2_bn (BatchNormal  (None, 15, 15, 512)  2048       ['conv5_block2_2_conv[0][0]']    \n",
            " ization)                                                                                         \n",
            "                                                                                                  \n",
            " conv5_block2_2_relu (Activatio  (None, 15, 15, 512)  0          ['conv5_block2_2_bn[0][0]']      \n",
            " n)                                                                                               \n",
            "                                                                                                  \n",
            " conv5_block2_3_conv (Conv2D)   (None, 15, 15, 2048  1050624     ['conv5_block2_2_relu[0][0]']    \n",
            "                                )                                                                 \n",
            "                                                                                                  \n",
            " conv5_block2_out (Add)         (None, 15, 15, 2048  0           ['conv5_block1_out[0][0]',       \n",
            "                                )                                 'conv5_block2_3_conv[0][0]']    \n",
            "                                                                                                  \n",
            " conv5_block3_preact_bn (BatchN  (None, 15, 15, 2048  8192       ['conv5_block2_out[0][0]']       \n",
            " ormalization)                  )                                                                 \n",
            "                                                                                                  \n",
            " conv5_block3_preact_relu (Acti  (None, 15, 15, 2048  0          ['conv5_block3_preact_bn[0][0]'] \n",
            " vation)                        )                                                                 \n",
            "                                                                                                  \n",
            " conv5_block3_1_conv (Conv2D)   (None, 15, 15, 512)  1048576     ['conv5_block3_preact_relu[0][0]'\n",
            "                                                                 ]                                \n",
            "                                                                                                  \n",
            " conv5_block3_1_bn (BatchNormal  (None, 15, 15, 512)  2048       ['conv5_block3_1_conv[0][0]']    \n",
            " ization)                                                                                         \n",
            "                                                                                                  \n",
            " conv5_block3_1_relu (Activatio  (None, 15, 15, 512)  0          ['conv5_block3_1_bn[0][0]']      \n",
            " n)                                                                                               \n",
            "                                                                                                  \n",
            " conv5_block3_2_pad (ZeroPaddin  (None, 17, 17, 512)  0          ['conv5_block3_1_relu[0][0]']    \n",
            " g2D)                                                                                             \n",
            "                                                                                                  \n",
            " conv5_block3_2_conv (Conv2D)   (None, 15, 15, 512)  2359296     ['conv5_block3_2_pad[0][0]']     \n",
            "                                                                                                  \n",
            " conv5_block3_2_bn (BatchNormal  (None, 15, 15, 512)  2048       ['conv5_block3_2_conv[0][0]']    \n",
            " ization)                                                                                         \n",
            "                                                                                                  \n",
            " conv5_block3_2_relu (Activatio  (None, 15, 15, 512)  0          ['conv5_block3_2_bn[0][0]']      \n",
            " n)                                                                                               \n",
            "                                                                                                  \n",
            " conv5_block3_3_conv (Conv2D)   (None, 15, 15, 2048  1050624     ['conv5_block3_2_relu[0][0]']    \n",
            "                                )                                                                 \n",
            "                                                                                                  \n",
            " conv5_block3_out (Add)         (None, 15, 15, 2048  0           ['conv5_block2_out[0][0]',       \n",
            "                                )                                 'conv5_block3_3_conv[0][0]']    \n",
            "                                                                                                  \n",
            " post_bn (BatchNormalization)   (None, 15, 15, 2048  8192        ['conv5_block3_out[0][0]']       \n",
            "                                )                                                                 \n",
            "                                                                                                  \n",
            " post_relu (Activation)         (None, 15, 15, 2048  0           ['post_bn[0][0]']                \n",
            "                                )                                                                 \n",
            "                                                                                                  \n",
            "==================================================================================================\n",
            "Total params: 23,564,800\n",
            "Trainable params: 0\n",
            "Non-trainable params: 23,564,800\n",
            "__________________________________________________________________________________________________\n"
          ]
        }
      ]
    },
    {
      "cell_type": "code",
      "source": [
        "resnet_model = Sequential()\n",
        "resnet_model.add(original_model)\n",
        "resnet_model.add(Dropout(0.4))\n",
        "resnet_model.add(Flatten())\n",
        "resnet_model.add(BatchNormalization())\n",
        "resnet_model.add(Dropout(0.4))\n",
        "resnet_model.add(Dense(4, activation='softmax'))"
      ],
      "metadata": {
        "id": "r2ZeteIuM4m9"
      },
      "execution_count": null,
      "outputs": []
    },
    {
      "cell_type": "code",
      "source": [
        "#new_model = tf.keras.Model(inputs=model_inputs, outputs=model_outputs)\n",
        "\n",
        "early_stopping = EarlyStopping(monitor= 'val_loss', patience= 20)\n",
        "checkpointer = ModelCheckpoint('/content/drive/MyDrive/Project_V2/Saved_TL_H5/Weights_TL.h5',monitor='val_loss', verbose = 1,\n",
        "                            save_best_only=True)\n",
        "resnet_model.compile(optimizer=tf.keras.optimizers.legacy.Adam(learning_rate= 0.00003, decay= 1e-5), loss=tf.keras.losses.CategoricalCrossentropy(),metrics=[tf.keras.metrics.CategoricalAccuracy()])\n",
        "\n",
        "resnet_model.summary()"
      ],
      "metadata": {
        "colab": {
          "base_uri": "https://localhost:8080/"
        },
        "id": "Y2S5634DM8Rm",
        "outputId": "109f879d-ceef-4980-b6ff-4904ac7bf0b0"
      },
      "execution_count": null,
      "outputs": [
        {
          "output_type": "stream",
          "name": "stdout",
          "text": [
            "Model: \"sequential\"\n",
            "_________________________________________________________________\n",
            " Layer (type)                Output Shape              Param #   \n",
            "=================================================================\n",
            " resnet50v2 (Functional)     (None, 15, 15, 2048)      23564800  \n",
            "                                                                 \n",
            " dropout (Dropout)           (None, 15, 15, 2048)      0         \n",
            "                                                                 \n",
            " flatten (Flatten)           (None, 460800)            0         \n",
            "                                                                 \n",
            " batch_normalization (BatchN  (None, 460800)           1843200   \n",
            " ormalization)                                                   \n",
            "                                                                 \n",
            " dropout_1 (Dropout)         (None, 460800)            0         \n",
            "                                                                 \n",
            " dense (Dense)               (None, 4)                 1843204   \n",
            "                                                                 \n",
            "=================================================================\n",
            "Total params: 27,251,204\n",
            "Trainable params: 2,764,804\n",
            "Non-trainable params: 24,486,400\n",
            "_________________________________________________________________\n"
          ]
        }
      ]
    },
    {
      "cell_type": "code",
      "source": [
        "history_model = resnet_model.fit(train_ds, epochs = 50, validation_data = val_ds, callbacks = [checkpointer, early_stopping])"
      ],
      "metadata": {
        "colab": {
          "base_uri": "https://localhost:8080/"
        },
        "id": "dC2f4AM7NlgT",
        "outputId": "e1943fb4-f363-44c2-c1db-dd39f4e753f8"
      },
      "execution_count": null,
      "outputs": [
        {
          "output_type": "stream",
          "name": "stdout",
          "text": [
            "Epoch 1/50\n",
            "23/23 [==============================] - ETA: 0s - loss: 1.0858 - categorical_accuracy: 0.5292\n",
            "Epoch 1: val_loss improved from inf to 3.27087, saving model to /content/drive/MyDrive/Project_V2/Saved_TL_H5/Weights_TL.h5\n",
            "23/23 [==============================] - 66s 2s/step - loss: 1.0858 - categorical_accuracy: 0.5292 - val_loss: 3.2709 - val_categorical_accuracy: 0.3571\n",
            "Epoch 2/50\n",
            "23/23 [==============================] - ETA: 0s - loss: 0.6049 - categorical_accuracy: 0.7833\n",
            "Epoch 2: val_loss improved from 3.27087 to 1.22080, saving model to /content/drive/MyDrive/Project_V2/Saved_TL_H5/Weights_TL.h5\n",
            "23/23 [==============================] - 14s 539ms/step - loss: 0.6049 - categorical_accuracy: 0.7833 - val_loss: 1.2208 - val_categorical_accuracy: 0.5833\n",
            "Epoch 3/50\n",
            "23/23 [==============================] - ETA: 0s - loss: 0.4006 - categorical_accuracy: 0.8542\n",
            "Epoch 3: val_loss improved from 1.22080 to 0.50163, saving model to /content/drive/MyDrive/Project_V2/Saved_TL_H5/Weights_TL.h5\n",
            "23/23 [==============================] - 14s 548ms/step - loss: 0.4006 - categorical_accuracy: 0.8542 - val_loss: 0.5016 - val_categorical_accuracy: 0.7500\n",
            "Epoch 4/50\n",
            "23/23 [==============================] - ETA: 0s - loss: 0.3072 - categorical_accuracy: 0.8972\n",
            "Epoch 4: val_loss improved from 0.50163 to 0.34612, saving model to /content/drive/MyDrive/Project_V2/Saved_TL_H5/Weights_TL.h5\n",
            "23/23 [==============================] - 17s 670ms/step - loss: 0.3072 - categorical_accuracy: 0.8972 - val_loss: 0.3461 - val_categorical_accuracy: 0.8452\n",
            "Epoch 5/50\n",
            "23/23 [==============================] - ETA: 0s - loss: 0.2548 - categorical_accuracy: 0.9333\n",
            "Epoch 5: val_loss improved from 0.34612 to 0.26551, saving model to /content/drive/MyDrive/Project_V2/Saved_TL_H5/Weights_TL.h5\n",
            "23/23 [==============================] - 14s 543ms/step - loss: 0.2548 - categorical_accuracy: 0.9333 - val_loss: 0.2655 - val_categorical_accuracy: 0.9048\n",
            "Epoch 6/50\n",
            "23/23 [==============================] - ETA: 0s - loss: 0.1950 - categorical_accuracy: 0.9611\n",
            "Epoch 6: val_loss improved from 0.26551 to 0.18239, saving model to /content/drive/MyDrive/Project_V2/Saved_TL_H5/Weights_TL.h5\n",
            "23/23 [==============================] - 14s 537ms/step - loss: 0.1950 - categorical_accuracy: 0.9611 - val_loss: 0.1824 - val_categorical_accuracy: 0.9405\n",
            "Epoch 7/50\n",
            "23/23 [==============================] - ETA: 0s - loss: 0.1568 - categorical_accuracy: 0.9653\n",
            "Epoch 7: val_loss improved from 0.18239 to 0.13706, saving model to /content/drive/MyDrive/Project_V2/Saved_TL_H5/Weights_TL.h5\n",
            "23/23 [==============================] - 14s 546ms/step - loss: 0.1568 - categorical_accuracy: 0.9653 - val_loss: 0.1371 - val_categorical_accuracy: 0.9643\n",
            "Epoch 8/50\n",
            "23/23 [==============================] - ETA: 0s - loss: 0.1379 - categorical_accuracy: 0.9708\n",
            "Epoch 8: val_loss improved from 0.13706 to 0.11127, saving model to /content/drive/MyDrive/Project_V2/Saved_TL_H5/Weights_TL.h5\n",
            "23/23 [==============================] - 14s 534ms/step - loss: 0.1379 - categorical_accuracy: 0.9708 - val_loss: 0.1113 - val_categorical_accuracy: 0.9762\n",
            "Epoch 9/50\n",
            "23/23 [==============================] - ETA: 0s - loss: 0.1237 - categorical_accuracy: 0.9736\n",
            "Epoch 9: val_loss did not improve from 0.11127\n",
            "23/23 [==============================] - 12s 475ms/step - loss: 0.1237 - categorical_accuracy: 0.9736 - val_loss: 0.1286 - val_categorical_accuracy: 0.9762\n",
            "Epoch 10/50\n",
            "23/23 [==============================] - ETA: 0s - loss: 0.1191 - categorical_accuracy: 0.9806\n",
            "Epoch 10: val_loss did not improve from 0.11127\n",
            "23/23 [==============================] - 13s 485ms/step - loss: 0.1191 - categorical_accuracy: 0.9806 - val_loss: 0.1239 - val_categorical_accuracy: 0.9762\n",
            "Epoch 11/50\n",
            "23/23 [==============================] - ETA: 0s - loss: 0.0934 - categorical_accuracy: 0.9875\n",
            "Epoch 11: val_loss did not improve from 0.11127\n",
            "23/23 [==============================] - 13s 482ms/step - loss: 0.0934 - categorical_accuracy: 0.9875 - val_loss: 0.1286 - val_categorical_accuracy: 0.9762\n",
            "Epoch 12/50\n",
            "23/23 [==============================] - ETA: 0s - loss: 0.0898 - categorical_accuracy: 0.9833\n",
            "Epoch 12: val_loss improved from 0.11127 to 0.07913, saving model to /content/drive/MyDrive/Project_V2/Saved_TL_H5/Weights_TL.h5\n",
            "23/23 [==============================] - 16s 596ms/step - loss: 0.0898 - categorical_accuracy: 0.9833 - val_loss: 0.0791 - val_categorical_accuracy: 0.9762\n",
            "Epoch 13/50\n",
            "23/23 [==============================] - ETA: 0s - loss: 0.0746 - categorical_accuracy: 0.9917\n",
            "Epoch 13: val_loss did not improve from 0.07913\n",
            "23/23 [==============================] - 13s 514ms/step - loss: 0.0746 - categorical_accuracy: 0.9917 - val_loss: 0.0965 - val_categorical_accuracy: 0.9762\n",
            "Epoch 14/50\n",
            "23/23 [==============================] - ETA: 0s - loss: 0.0645 - categorical_accuracy: 0.9917\n",
            "Epoch 14: val_loss did not improve from 0.07913\n",
            "23/23 [==============================] - 13s 500ms/step - loss: 0.0645 - categorical_accuracy: 0.9917 - val_loss: 0.1361 - val_categorical_accuracy: 0.9643\n",
            "Epoch 15/50\n",
            "23/23 [==============================] - ETA: 0s - loss: 0.0612 - categorical_accuracy: 0.9875\n",
            "Epoch 15: val_loss did not improve from 0.07913\n",
            "23/23 [==============================] - 15s 600ms/step - loss: 0.0612 - categorical_accuracy: 0.9875 - val_loss: 0.0922 - val_categorical_accuracy: 0.9643\n",
            "Epoch 16/50\n",
            "23/23 [==============================] - ETA: 0s - loss: 0.0614 - categorical_accuracy: 0.9903\n",
            "Epoch 16: val_loss did not improve from 0.07913\n",
            "23/23 [==============================] - 13s 491ms/step - loss: 0.0614 - categorical_accuracy: 0.9903 - val_loss: 0.0943 - val_categorical_accuracy: 0.9762\n",
            "Epoch 17/50\n",
            "23/23 [==============================] - ETA: 0s - loss: 0.0479 - categorical_accuracy: 0.9972\n",
            "Epoch 17: val_loss did not improve from 0.07913\n",
            "23/23 [==============================] - 13s 496ms/step - loss: 0.0479 - categorical_accuracy: 0.9972 - val_loss: 0.1091 - val_categorical_accuracy: 0.9643\n",
            "Epoch 18/50\n",
            "23/23 [==============================] - ETA: 0s - loss: 0.0434 - categorical_accuracy: 1.0000\n",
            "Epoch 18: val_loss did not improve from 0.07913\n",
            "23/23 [==============================] - 15s 605ms/step - loss: 0.0434 - categorical_accuracy: 1.0000 - val_loss: 0.1485 - val_categorical_accuracy: 0.9524\n",
            "Epoch 19/50\n",
            "23/23 [==============================] - ETA: 0s - loss: 0.0478 - categorical_accuracy: 0.9986\n",
            "Epoch 19: val_loss did not improve from 0.07913\n",
            "23/23 [==============================] - 13s 483ms/step - loss: 0.0478 - categorical_accuracy: 0.9986 - val_loss: 0.0910 - val_categorical_accuracy: 0.9524\n",
            "Epoch 20/50\n",
            "23/23 [==============================] - ETA: 0s - loss: 0.0359 - categorical_accuracy: 1.0000\n",
            "Epoch 20: val_loss improved from 0.07913 to 0.06828, saving model to /content/drive/MyDrive/Project_V2/Saved_TL_H5/Weights_TL.h5\n",
            "23/23 [==============================] - 14s 559ms/step - loss: 0.0359 - categorical_accuracy: 1.0000 - val_loss: 0.0683 - val_categorical_accuracy: 0.9762\n",
            "Epoch 21/50\n",
            "23/23 [==============================] - ETA: 0s - loss: 0.0335 - categorical_accuracy: 0.9986\n",
            "Epoch 21: val_loss did not improve from 0.06828\n",
            "23/23 [==============================] - 13s 502ms/step - loss: 0.0335 - categorical_accuracy: 0.9986 - val_loss: 0.1202 - val_categorical_accuracy: 0.9643\n",
            "Epoch 22/50\n",
            "23/23 [==============================] - ETA: 0s - loss: 0.0339 - categorical_accuracy: 0.9986\n",
            "Epoch 22: val_loss did not improve from 0.06828\n",
            "23/23 [==============================] - 13s 504ms/step - loss: 0.0339 - categorical_accuracy: 0.9986 - val_loss: 0.0874 - val_categorical_accuracy: 0.9881\n",
            "Epoch 23/50\n",
            "23/23 [==============================] - ETA: 0s - loss: 0.0325 - categorical_accuracy: 0.9972\n",
            "Epoch 23: val_loss did not improve from 0.06828\n",
            "23/23 [==============================] - 13s 491ms/step - loss: 0.0325 - categorical_accuracy: 0.9972 - val_loss: 0.1851 - val_categorical_accuracy: 0.9643\n",
            "Epoch 24/50\n",
            "23/23 [==============================] - ETA: 0s - loss: 0.0239 - categorical_accuracy: 1.0000\n",
            "Epoch 24: val_loss did not improve from 0.06828\n",
            "23/23 [==============================] - 12s 468ms/step - loss: 0.0239 - categorical_accuracy: 1.0000 - val_loss: 0.1905 - val_categorical_accuracy: 0.9881\n",
            "Epoch 25/50\n",
            "23/23 [==============================] - ETA: 0s - loss: 0.0268 - categorical_accuracy: 1.0000\n",
            "Epoch 25: val_loss did not improve from 0.06828\n",
            "23/23 [==============================] - 12s 470ms/step - loss: 0.0268 - categorical_accuracy: 1.0000 - val_loss: 0.1049 - val_categorical_accuracy: 0.9762\n",
            "Epoch 26/50\n",
            "23/23 [==============================] - ETA: 0s - loss: 0.0303 - categorical_accuracy: 0.9986\n",
            "Epoch 26: val_loss did not improve from 0.06828\n",
            "23/23 [==============================] - 12s 470ms/step - loss: 0.0303 - categorical_accuracy: 0.9986 - val_loss: 0.2356 - val_categorical_accuracy: 0.9881\n",
            "Epoch 27/50\n",
            "23/23 [==============================] - ETA: 0s - loss: 0.0323 - categorical_accuracy: 1.0000\n",
            "Epoch 27: val_loss did not improve from 0.06828\n",
            "23/23 [==============================] - 13s 484ms/step - loss: 0.0323 - categorical_accuracy: 1.0000 - val_loss: 0.4297 - val_categorical_accuracy: 0.9643\n",
            "Epoch 28/50\n",
            "23/23 [==============================] - ETA: 0s - loss: 0.0223 - categorical_accuracy: 0.9986\n",
            "Epoch 28: val_loss did not improve from 0.06828\n",
            "23/23 [==============================] - 13s 464ms/step - loss: 0.0223 - categorical_accuracy: 0.9986 - val_loss: 0.4713 - val_categorical_accuracy: 0.9643\n",
            "Epoch 29/50\n",
            "23/23 [==============================] - ETA: 0s - loss: 0.0249 - categorical_accuracy: 1.0000\n",
            "Epoch 29: val_loss did not improve from 0.06828\n",
            "23/23 [==============================] - 13s 461ms/step - loss: 0.0249 - categorical_accuracy: 1.0000 - val_loss: 0.1431 - val_categorical_accuracy: 0.9643\n",
            "Epoch 30/50\n",
            "23/23 [==============================] - ETA: 0s - loss: 0.0229 - categorical_accuracy: 0.9986\n",
            "Epoch 30: val_loss did not improve from 0.06828\n",
            "23/23 [==============================] - 12s 465ms/step - loss: 0.0229 - categorical_accuracy: 0.9986 - val_loss: 0.6173 - val_categorical_accuracy: 0.9524\n",
            "Epoch 31/50\n",
            "23/23 [==============================] - ETA: 0s - loss: 0.0182 - categorical_accuracy: 0.9986\n",
            "Epoch 31: val_loss did not improve from 0.06828\n",
            "23/23 [==============================] - 12s 467ms/step - loss: 0.0182 - categorical_accuracy: 0.9986 - val_loss: 0.3547 - val_categorical_accuracy: 0.9524\n",
            "Epoch 32/50\n",
            "23/23 [==============================] - ETA: 0s - loss: 0.0182 - categorical_accuracy: 1.0000\n",
            "Epoch 32: val_loss did not improve from 0.06828\n",
            "23/23 [==============================] - 12s 479ms/step - loss: 0.0182 - categorical_accuracy: 1.0000 - val_loss: 0.4893 - val_categorical_accuracy: 0.9643\n",
            "Epoch 33/50\n",
            "23/23 [==============================] - ETA: 0s - loss: 0.0200 - categorical_accuracy: 0.9986\n",
            "Epoch 33: val_loss did not improve from 0.06828\n",
            "23/23 [==============================] - 13s 498ms/step - loss: 0.0200 - categorical_accuracy: 0.9986 - val_loss: 0.8568 - val_categorical_accuracy: 0.9405\n",
            "Epoch 34/50\n",
            "23/23 [==============================] - ETA: 0s - loss: 0.0167 - categorical_accuracy: 1.0000\n",
            "Epoch 34: val_loss did not improve from 0.06828\n",
            "23/23 [==============================] - 15s 605ms/step - loss: 0.0167 - categorical_accuracy: 1.0000 - val_loss: 0.5669 - val_categorical_accuracy: 0.9524\n",
            "Epoch 35/50\n",
            "23/23 [==============================] - ETA: 0s - loss: 0.0172 - categorical_accuracy: 1.0000\n",
            "Epoch 35: val_loss did not improve from 0.06828\n",
            "23/23 [==============================] - 12s 480ms/step - loss: 0.0172 - categorical_accuracy: 1.0000 - val_loss: 0.5484 - val_categorical_accuracy: 0.9643\n",
            "Epoch 36/50\n",
            "23/23 [==============================] - ETA: 0s - loss: 0.0148 - categorical_accuracy: 1.0000\n",
            "Epoch 36: val_loss did not improve from 0.06828\n",
            "23/23 [==============================] - 13s 490ms/step - loss: 0.0148 - categorical_accuracy: 1.0000 - val_loss: 0.7207 - val_categorical_accuracy: 0.9524\n",
            "Epoch 37/50\n",
            "23/23 [==============================] - ETA: 0s - loss: 0.0139 - categorical_accuracy: 1.0000\n",
            "Epoch 37: val_loss did not improve from 0.06828\n",
            "23/23 [==============================] - 13s 498ms/step - loss: 0.0139 - categorical_accuracy: 1.0000 - val_loss: 0.1417 - val_categorical_accuracy: 0.9762\n",
            "Epoch 38/50\n",
            "23/23 [==============================] - ETA: 0s - loss: 0.0134 - categorical_accuracy: 1.0000\n",
            "Epoch 38: val_loss did not improve from 0.06828\n",
            "23/23 [==============================] - 13s 492ms/step - loss: 0.0134 - categorical_accuracy: 1.0000 - val_loss: 0.8918 - val_categorical_accuracy: 0.9524\n",
            "Epoch 39/50\n",
            "23/23 [==============================] - ETA: 0s - loss: 0.0122 - categorical_accuracy: 1.0000\n",
            "Epoch 39: val_loss did not improve from 0.06828\n",
            "23/23 [==============================] - 12s 460ms/step - loss: 0.0122 - categorical_accuracy: 1.0000 - val_loss: 1.0695 - val_categorical_accuracy: 0.9286\n",
            "Epoch 40/50\n",
            "23/23 [==============================] - ETA: 0s - loss: 0.0173 - categorical_accuracy: 0.9986\n",
            "Epoch 40: val_loss did not improve from 0.06828\n",
            "23/23 [==============================] - 12s 470ms/step - loss: 0.0173 - categorical_accuracy: 0.9986 - val_loss: 0.5654 - val_categorical_accuracy: 0.9643\n"
          ]
        }
      ]
    },
    {
      "cell_type": "code",
      "source": [
        "resnet_model.save('/content/drive/MyDrive/Project_V2/Saved_TL_H5/Model_TL.h5')"
      ],
      "metadata": {
        "id": "WeTs-V7HAQsG"
      },
      "execution_count": null,
      "outputs": []
    },
    {
      "cell_type": "markdown",
      "source": [
        "##Load the saved model/weights\n"
      ],
      "metadata": {
        "id": "U5dUbHNa2qrh"
      }
    },
    {
      "cell_type": "markdown",
      "source": [
        "Only activate one of these following code lines"
      ],
      "metadata": {
        "id": "AzqR8mbeDe77"
      }
    },
    {
      "cell_type": "code",
      "source": [
        "#Saved Model\n",
        "\n",
        "from keras.models import load_model\n",
        "saved_model = load_model('/content/drive/MyDrive/Project_V2/Saved_TL_H5/Model_TL.h5')"
      ],
      "metadata": {
        "id": "eT2CWoJ0d1_B"
      },
      "execution_count": null,
      "outputs": []
    },
    {
      "cell_type": "code",
      "source": [
        "#Saved Weights from the best epoch\n",
        "\n",
        "from keras.models import load_model\n",
        "saved_model = load_model('/content/drive/MyDrive/Project_V2/Saved_TL_H5/Weights_TL.h5')"
      ],
      "metadata": {
        "id": "euWCWQmIDmEE"
      },
      "execution_count": null,
      "outputs": []
    },
    {
      "cell_type": "markdown",
      "source": [
        "##User Prediction"
      ],
      "metadata": {
        "id": "WCW_L3NcYUWY"
      }
    },
    {
      "cell_type": "code",
      "source": [
        "picnum=1\n",
        "\n",
        "imgs=[]\n",
        "imgs_s=[]\n",
        "for i in range(picnum):\n",
        "    path_pic = \"/content/drive/MyDrive/Project_V2/Predict_Stuff/NormalChestCt.jpg\"\n",
        "    imgs.append(load_img(path_pic))\n",
        "    imgs_s.append(load_img(path_pic, target_size=(460, 460)))\n",
        "\n",
        "data1 = []\n",
        "for i in range(picnum):\n",
        "  data=np.array(imgs_s[i].getdata())\n",
        "  data1.append(data)\n",
        "\n",
        "X = np.array(data1).reshape(1,460,460,3)\n",
        "Y = np.array([1])\n",
        "\n",
        "real_pred1 = saved_model.predict(X, batch_size=10)\n",
        "real_pred = np.where(real_pred1>0.5,1,0).reshape(4)"
      ],
      "metadata": {
        "colab": {
          "base_uri": "https://localhost:8080/"
        },
        "id": "9eQkLVU2YWrb",
        "outputId": "fe98cf98-5a59-4c4e-9e72-b3fd09eab1e6"
      },
      "execution_count": null,
      "outputs": [
        {
          "output_type": "stream",
          "name": "stdout",
          "text": [
            "1/1 [==============================] - 10s 10s/step\n"
          ]
        }
      ]
    },
    {
      "cell_type": "code",
      "source": [
        "nrows = 3\n",
        "ncols = 4\n",
        "class_names=['squamous','normal','large','adeno']\n",
        "\n",
        "# Set up matplotlib fig, and size it to fit 4x4 pics\n",
        "fig = plt.gcf()\n",
        "fig.set_size_inches(ncols * 5, nrows * 5)\n",
        "\n",
        "for i in range(picnum):\n",
        "    sp = plt.subplot(nrows, ncols, i + 1)\n",
        "    sp.axis('Off') # Don't show axes (or gridlines)\n",
        "    plt.imshow(imgs[i])\n",
        "    plt.title(\"prediction: \"+ class_names[real_pred[i]] +\"\\nActual: \" + class_names[Y[i]])\n",
        "\n",
        "plt.show()"
      ],
      "metadata": {
        "colab": {
          "base_uri": "https://localhost:8080/",
          "height": 302
        },
        "id": "lUa9XSqLaona",
        "outputId": "9f12eb2b-e0e4-4147-8077-3e024a06a9c9"
      },
      "execution_count": null,
      "outputs": [
        {
          "output_type": "display_data",
          "data": {
            "text/plain": [
              "<Figure size 1440x1080 with 1 Axes>"
            ],
            "image/png": "[encoded data removed]"
          },
          "metadata": {
            "needs_background": "light"
          }
        }
      ]
    },
    {
      "cell_type": "markdown",
      "source": [
        "##Analysis"
      ],
      "metadata": {
        "id": "vs8Jkjo5mty-"
      }
    },
    {
      "cell_type": "code",
      "source": [
        "history_model.history.keys()"
      ],
      "metadata": {
        "colab": {
          "base_uri": "https://localhost:8080/"
        },
        "id": "ptuq5-yXmtbD",
        "outputId": "a2ee1400-3d92-4c9e-e0d6-0483328f0bc5"
      },
      "execution_count": null,
      "outputs": [
        {
          "output_type": "execute_result",
          "data": {
            "text/plain": [
              "dict_keys(['loss', 'categorical_accuracy', 'val_loss', 'val_categorical_accuracy'])"
            ]
          },
          "metadata": {},
          "execution_count": 27
        }
      ]
    },
    {
      "cell_type": "code",
      "source": [
        "# graph accuracy\n",
        "plt.plot(history_model.history['categorical_accuracy'])\n",
        "plt.plot(history_model.history['val_categorical_accuracy'])\n",
        "plt.title('Model Accuracy', loc='left')\n",
        "plt.ylabel('categorical_accuracy')\n",
        "plt.xlabel('epoch')\n",
        "plt.legend(['train', 'validate'], loc='upper left')\n",
        "plt.show();\n",
        "\n",
        "#graph loss\n",
        "plt.plot(history_model.history['loss'])\n",
        "plt.plot(history_model.history['val_loss'])\n",
        "plt.title('Model Loss', loc='left')\n",
        "plt.ylabel('loss')\n",
        "plt.xlabel('epoch')\n",
        "plt.legend(['train', 'validate'], loc='upper left')\n",
        "plt.show();"
      ],
      "metadata": {
        "colab": {
          "base_uri": "https://localhost:8080/",
          "height": 573
        },
        "id": "CnjbJR2TmwyV",
        "outputId": "c79c48a4-7b6f-4405-b15a-932f875309c8"
      },
      "execution_count": null,
      "outputs": [
        {
          "output_type": "display_data",
          "data": {
            "text/plain": [
              "<Figure size 432x288 with 1 Axes>"
            ],
            "image/png": "[encoded data removed]"
          },
          "metadata": {
            "needs_background": "light"
          }
        },
        {
          "output_type": "display_data",
          "data": {
            "text/plain": [
              "<Figure size 432x288 with 1 Axes>"
            ],
            "image/png": "[encoded data removed]"
          },
          "metadata": {
            "needs_background": "light"
          }
        }
      ]
    },
    {
      "cell_type": "code",
      "source": [
        "train_score = resnet_model.evaluate(train_ds, verbose= 1)\n",
        "valid_score = resnet_model.evaluate(val_ds, verbose= 1)\n",
        "test_score = resnet_model.evaluate(test_val_ds, verbose= 1)\n",
        "\n",
        "print(\"Train Loss: \", train_score[0])\n",
        "print(\"Train Accuracy: \", train_score[1])\n",
        "print('-' * 20)\n",
        "print(\"Validation Loss: \", valid_score[0])\n",
        "print(\"Validation Accuracy: \", valid_score[1])\n",
        "print('-' * 20)\n",
        "print(\"Test Loss: \", test_score[0])\n",
        "print(\"Test Accuracy: \", test_score[1])"
      ],
      "metadata": {
        "colab": {
          "base_uri": "https://localhost:8080/"
        },
        "id": "OXJNr6ZUmz5R",
        "outputId": "18a89e22-0dd7-4034-d7b3-3028a9bd2351"
      },
      "execution_count": null,
      "outputs": [
        {
          "output_type": "stream",
          "name": "stdout",
          "text": [
            "23/23 [==============================] - 13s 418ms/step - loss: 0.0037 - categorical_accuracy: 1.0000\n",
            "3/3 [==============================] - 2s 321ms/step - loss: 0.1513 - categorical_accuracy: 0.9762\n",
            "6/6 [==============================] - 4s 349ms/step - loss: 0.5598 - categorical_accuracy: 0.9611\n",
            "Train Loss:  0.003748911200091243\n",
            "Train Accuracy:  1.0\n",
            "--------------------\n",
            "Validation Loss:  0.15130503475666046\n",
            "Validation Accuracy:  0.976190447807312\n",
            "--------------------\n",
            "Test Loss:  0.5598182678222656\n",
            "Test Accuracy:  0.9611111283302307\n"
          ]
        }
      ]
    },
    {
      "cell_type": "markdown",
      "source": [
        "##Prediction and Analysis"
      ],
      "metadata": {
        "id": "W1VRxjNL5z2A"
      }
    },
    {
      "cell_type": "code",
      "source": [
        "from sklearn.metrics import confusion_matrix\n",
        "\n",
        "# make predictions using saved model\n",
        "y_pred = saved_model.predict(test_val_ds)\n",
        "y_pred = np.argmax(y_pred, axis=1)\n",
        "\n",
        "# get true labels from test_val_ds\n",
        "y_true = []\n",
        "for x, y in test_val_ds:\n",
        "    y_true.extend(np.argmax(y.numpy(), axis=1))\n",
        "\n",
        "# create confusion matrix\n",
        "cm = confusion_matrix(y_true, y_pred)\n",
        "\n",
        "# plot confusion matrix\n",
        "class_names = ['adenocarcinoma', 'large-cell-carcinoma', 'normal', 'squamous-cell-carcinoma']\n",
        "fig, ax = plt.subplots(figsize=(8, 8))\n",
        "sns.heatmap(cm, annot=True, fmt='d', cmap='Blues', ax=ax)\n",
        "\n",
        "# set labels, title, and ticks\n",
        "ax.set_xlabel('Predicted Labels')\n",
        "ax.set_ylabel('True Labels')\n",
        "ax.set_title('Confusion Matrix')\n",
        "ax.xaxis.set_ticklabels(class_names)\n",
        "ax.yaxis.set_ticklabels(class_names)"
      ],
      "metadata": {
        "colab": {
          "base_uri": "https://localhost:8080/",
          "height": 604
        },
        "id": "Wmt8TMrw-qAL",
        "outputId": "3713aa3e-a54f-4810-90ff-7c8b566da3cb"
      },
      "execution_count": null,
      "outputs": [
        {
          "output_type": "stream",
          "name": "stdout",
          "text": [
            "6/6 [==============================] - 7s 387ms/step\n"
          ]
        },
        {
          "output_type": "execute_result",
          "data": {
            "text/plain": [
              "[Text(0, 0.5, 'adenocarcinoma'),\n",
              " Text(0, 1.5, 'large-cell-carcinoma'),\n",
              " Text(0, 2.5, 'normal'),\n",
              " Text(0, 3.5, 'squamous-cell-carcinoma')]"
            ]
          },
          "metadata": {},
          "execution_count": 37
        },
        {
          "output_type": "display_data",
          "data": {
            "text/plain": [
              "<Figure size 576x576 with 2 Axes>"
            ],
            "image/png": "[encoded data removed]"
          },
          "metadata": {
            "needs_background": "light"
          }
        }
      ]
    },
    {
      "cell_type": "code",
      "source": [
        "from sklearn.metrics import classification_report\n",
        "\n",
        "y_pred = saved_model.predict(test_val_ds, batch_size=64, verbose=1)\n",
        "y_pred_bool = np.argmax(y_pred, axis=1)\n",
        "\n",
        "print(classification_report(y_true, y_pred_bool))"
      ],
      "metadata": {
        "colab": {
          "base_uri": "https://localhost:8080/"
        },
        "id": "41KmBLdBsglw",
        "outputId": "5d616752-5506-42c6-de6c-3a213acc7fd8"
      },
      "execution_count": null,
      "outputs": [
        {
          "output_type": "stream",
          "name": "stdout",
          "text": [
            "6/6 [==============================] - 3s 357ms/step\n",
            "              precision    recall  f1-score   support\n",
            "\n",
            "           0       0.33      0.32      0.33        68\n",
            "           1       0.20      0.20      0.20        41\n",
            "           2       0.24      0.25      0.24        32\n",
            "           3       0.21      0.21      0.21        39\n",
            "\n",
            "    accuracy                           0.26       180\n",
            "   macro avg       0.24      0.24      0.24       180\n",
            "weighted avg       0.26      0.26      0.26       180\n",
            "\n"
          ]
        }
      ]
    },
    {
      "cell_type": "markdown",
      "source": [
        "##Anvil"
      ],
      "metadata": {
        "id": "irCZeoAQ2Js2"
      }
    },
    {
      "cell_type": "code",
      "source": [
        "!pip install anvil-uplink"
      ],
      "metadata": {
        "colab": {
          "base_uri": "https://localhost:8080/",
          "height": 435
        },
        "id": "oiw8my8WoEe7",
        "outputId": "261357b4-527e-4cc0-cf07-4ec43a2cebc1"
      },
      "execution_count": null,
      "outputs": [
        {
          "output_type": "stream",
          "name": "stdout",
          "text": [
            "Collecting anvil-uplink\n",
            "  Downloading anvil_uplink-0.4.2-py2.py3-none-any.whl (90 kB)\n",
            "\u001b[2K     \u001b[90m━━━━━━━━━━━━━━━━━━━━━━━━━━━━━━━━━━━━━━━━\u001b[0m \u001b[32m90.1/90.1 kB\u001b[0m \u001b[31m1.1 MB/s\u001b[0m eta \u001b[36m0:00:00\u001b[0m\n",
            "\u001b[?25hCollecting argparse (from anvil-uplink)\n",
            "  Downloading argparse-1.4.0-py2.py3-none-any.whl (23 kB)\n",
            "Requirement already satisfied: future in /usr/local/lib/python3.10/dist-packages (from anvil-uplink) (0.18.3)\n",
            "Requirement already satisfied: six in /usr/local/lib/python3.10/dist-packages (from anvil-uplink) (1.16.0)\n",
            "Collecting ws4py (from anvil-uplink)\n",
            "  Downloading ws4py-0.5.1.tar.gz (51 kB)\n",
            "\u001b[2K     \u001b[90m━━━━━━━━━━━━━━━━━━━━━━━━━━━━━━━━━━━━━━━━\u001b[0m \u001b[32m51.4/51.4 kB\u001b[0m \u001b[31m2.1 MB/s\u001b[0m eta \u001b[36m0:00:00\u001b[0m\n",
            "\u001b[?25h  Preparing metadata (setup.py) ... \u001b[?25l\u001b[?25hdone\n",
            "Building wheels for collected packages: ws4py\n",
            "  Building wheel for ws4py (setup.py) ... \u001b[?25l\u001b[?25hdone\n",
            "  Created wheel for ws4py: filename=ws4py-0.5.1-py3-none-any.whl size=45227 sha256=3edb4303953c9e774ae38959bb1cb577e8ff986665b2a4e9efa12b72045302a0\n",
            "  Stored in directory: /root/.cache/pip/wheels/2e/7c/ad/d9c746276bf024d44296340869fcb169f1e5d80fb147351a57\n",
            "Successfully built ws4py\n",
            "Installing collected packages: ws4py, argparse, anvil-uplink\n",
            "Successfully installed anvil-uplink-0.4.2 argparse-1.4.0 ws4py-0.5.1\n"
          ]
        },
        {
          "output_type": "display_data",
          "data": {
            "application/vnd.colab-display-data+json": {
              "pip_warning": {
                "packages": [
                  "argparse",
                  "google"
                ]
              }
            }
          },
          "metadata": {}
        }
      ]
    },
    {
      "cell_type": "code",
      "source": [
        "import anvil.server\n",
        "anvil.server.connect('server_TLOVQXNG3BMRRYGLPNVZRLMJ-NKQRPB7BMSQC5JXP')"
      ],
      "metadata": {
        "id": "yf46ob3WoBfM",
        "colab": {
          "base_uri": "https://localhost:8080/"
        },
        "outputId": "f0a69a48-9958-4f74-b279-2e05e5fa6048"
      },
      "execution_count": null,
      "outputs": [
        {
          "output_type": "stream",
          "name": "stdout",
          "text": [
            "Connecting to wss://anvil.works/uplink\n",
            "Anvil websocket open\n",
            "Connected to \"Default Environment\" as SERVER\n"
          ]
        }
      ]
    },
    {
      "cell_type": "code",
      "source": [
        "import anvil\n",
        "import anvil.media\n",
        "import PIL\n",
        "@anvil.server.callable\n",
        "def classifying_image(file):\n",
        "  class_names = ['large-cell-carcinoma', 'adenocarcinoma', 'squamous-cell-carcinoma', 'normal']\n",
        "  with anvil.media.TempFile(file) as filename:\n",
        "    img = load_img(filename)\n",
        "\n",
        "  img = img.resize((460,460), resample = PIL.Image.BICUBIC)\n",
        "  arr = img_to_array(img)\n",
        "  arr = np.expand_dims(arr, axis = 0)\n",
        "  arr /= 255.0\n",
        "\n",
        "  score = saved_model.predict(arr)\n",
        "\n",
        "  place = np.argmax(saved_model.predict(arr))\n",
        "\n",
        "  return (class_names[place], score)"
      ],
      "metadata": {
        "id": "vnUTsswboW8c"
      },
      "execution_count": null,
      "outputs": []
    }
  ]
}
